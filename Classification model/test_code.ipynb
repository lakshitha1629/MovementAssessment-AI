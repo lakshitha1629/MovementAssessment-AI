{
 "cells": [
  {
   "cell_type": "code",
   "execution_count": 1,
   "metadata": {},
   "outputs": [],
   "source": [
    "import pickle\n",
    "import pandas as pd\n",
    "import json"
   ]
  },
  {
   "cell_type": "code",
   "execution_count": 2,
   "metadata": {},
   "outputs": [],
   "source": [
    "config = {\n",
    "    'Collar_bone_x': [-0.1559136],\n",
    "    'Collar_bone_y': [0.2286534],\n",
    "    'Collar_bone_z': [2.120145],\n",
    "    'Fore_arm_x': [-0.5302216],\n",
    "    'Fore_arm_y': [0.2827062],\n",
    "    'Fore_arm_z': [2.109175],\n",
    "    'Hand_x': [-0.5868202],\n",
    "    'Hand_y': [0.2925405],\n",
    "    'Hand_z': [2.103178],\n",
    "    'Upper_arm_x': [-0.3435675],\n",
    "    'Upper_arm_y': [0.2677751],\n",
    "    'Upper_arm_z': [2.130795]\n",
    "    \n",
    "}"
   ]
  },
  {
   "cell_type": "code",
   "execution_count": 3,
   "metadata": {},
   "outputs": [
    {
     "name": "stdout",
     "output_type": "stream",
     "text": [
      "0\n"
     ]
    }
   ],
   "source": [
    "def predict_mpg(config):\n",
    "    ##loading the model from the saved file\n",
    "    pkl_filename = \"model.pkl\"\n",
    "    with open(pkl_filename, 'rb') as f_in:\n",
    "        model = pickle.load(f_in)\n",
    "    \n",
    "    if (config):\n",
    "        df = pd.DataFrame(config)\n",
    "        \n",
    "    else:\n",
    "        df = config\n",
    "    \n",
    "    y_pred = model.predict(df)\n",
    "    y_pred_int = int(y_pred[0])\n",
    "    return y_pred_int\n",
    "\n",
    "result = predict_mpg(config)\n",
    "print(result)"
   ]
  },
  {
   "cell_type": "code",
   "execution_count": 4,
   "metadata": {},
   "outputs": [],
   "source": [
    "import json\n",
    "\n",
    "\n",
    "y =  {\n",
    "    'Collar_bone_x': '-0.1559136,2.120145,2.120145,-0.5302216,0.2827062,2.109175,-0.5868202,0.2925405,2.103178,-0.3435675,0.2677751,2.130795',\n",
    "    'Collar_bone_y':'-0.118622,0.2115077,2.183545,-0.3694361,0.2784333,1.948353,-0.3902101,0.3388408,1.909705,-0.2852452,0.1489574,2.067946',\n",
    "    'Collar_bone_z':'-0.118622,0.2115077,2.183545,-0.3694361,0.2784333,1.948353,-0.3902101,0.3388408,1.909705,-0.2852452,0.1489574,2.067946',\n",
    "    'Fore_arm_x':'-0.118622,0.2115077,2.183545,-0.3694361,0.2784333,1.948353,-0.3902101,0.3388408,1.909705,-0.2852452,0.1489574,2.067946',\n",
    "    'Fore_arm_y':'-0.118622,0.2115077,2.183545,-0.3694361,0.2784333,1.948353,-0.3902101,0.3388408,1.909705,-0.2852452,0.1489574,2.067946',\n",
    "    'Fore_arm_z':'-0.118622,0.2115077,2.183545,-0.3694361,0.2784333,1.948353,-0.3902101,0.3388408,1.909705,-0.2852452,0.1489574,2.067946',\n",
    "    'Hand_x':'-0.118622,0.2115077,2.183545,-0.3694361,0.2784333,1.948353,-0.3902101,0.3388408,1.909705,-0.2852452,0.1489574,2.067946',\n",
    "    'Hand_y':'-0.118622,0.2115077,2.183545,-0.3694361,0.2784333,1.948353,-0.3902101,0.3388408,1.909705,-0.2852452,0.1489574,2.067946',\n",
    "    'Hand_z':'-0.118622,0.2115077,2.183545,-0.3694361,0.2784333,1.948353,-0.3902101,0.3388408,1.909705,-0.2852452,0.1489574,2.067946',\n",
    "    'Upper_arm_x':'-0.118622,0.2115077,2.183545,-0.3694361,0.2784333,1.948353,-0.3902101,0.3388408,1.909705,-0.2852452,0.1489574,2.067946',\n",
    "    'Upper_arm_y':'-0.118622,0.2115077,2.183545,-0.3694361,0.2784333,1.948353,-0.3902101,0.3388408,1.909705,-0.2852452,0.1489574,2.067946',\n",
    "    'Upper_arm_z':'-0.118622,0.2115077,2.183545,-0.3694361,0.2784333,1.948353,-0.3902101,0.3388408,1.909705,-0.2852452,0.1489574,2.067946',\n",
    "      }\n",
    "\n"
   ]
  },
  {
   "cell_type": "code",
   "execution_count": 5,
   "metadata": {},
   "outputs": [
    {
     "name": "stdout",
     "output_type": "stream",
     "text": [
      "1 MaxCoutOutput\n"
     ]
    }
   ],
   "source": [
    "result = []\n",
    "valueList={}\n",
    "for key in y:\n",
    "    valueList.update({key: y[str(key)].split(',')})\n",
    "\n",
    "for i in range(0, len(valueList[\"Collar_bone_x\"])):\n",
    "    my_list = [elem[i] for elem in valueList.values()]\n",
    "    \n",
    "    for a in range(0, len(my_list)):\n",
    "        config = {\n",
    "            'Collar_bone_x': [my_list[a]],\n",
    "            'Collar_bone_y': [my_list[a]],\n",
    "            'Collar_bone_z': [my_list[a]],\n",
    "            'Fore_arm_x': [my_list[a]],\n",
    "            'Fore_arm_y': [my_list[a]],\n",
    "            'Fore_arm_z': [my_list[a]],\n",
    "            'Hand_x_test': [my_list[a]],\n",
    "            'Hand_y_test': [my_list[a]],\n",
    "            'Hand_z_test': [my_list[a]],\n",
    "            'Upper_arm_x': [my_list[a]],\n",
    "            'Upper_arm_y': [my_list[a]],\n",
    "            'Upper_arm_z': [my_list[a]]\n",
    "            }\n",
    "    predictResult = predict_mpg(config)\n",
    "    result.append(predictResult)\n",
    "#     print(config)\n",
    "\n",
    "most_common_value = max(result, key = result.count)\n",
    "print(most_common_value,\"MaxCoutOutput\")"
   ]
  },
  {
   "cell_type": "code",
   "execution_count": null,
   "metadata": {},
   "outputs": [],
   "source": [
    " config = {\n",
    "    'Collar_bone_x': [float(y[\"Collar_bone_x\"])],\n",
    "    'Collar_bone_y': [float(y[\"Collar_bone_y\"])],\n",
    "    'Collar_bone_z': [float(y[\"Collar_bone_z\"])],\n",
    "    'Fore_arm_x': [float(y[\"Fore_arm_x\"])],\n",
    "    'Fore_arm_y': [float(y[\"Fore_arm_y\"])],\n",
    "    'Fore_arm_z': [float(y[\"Fore_arm_z\"])],\n",
    "    'Hand_x_test': [float(y[\"Hand_x\"])],\n",
    "    'Hand_y_test': [float(y[\"Hand_y\"])],\n",
    "    'Hand_z_test': [float(y[\"Hand_z\"])],\n",
    "    'Upper_arm_x': [float(y[\"Upper_arm_x\"])],\n",
    "    'Upper_arm_y': [float(y[\"Upper_arm_y\"])],\n",
    "    'Upper_arm_z': [float(y[\"Upper_arm_z\"])]\n",
    "    \n",
    "    }"
   ]
  }
 ],
 "metadata": {
  "kernelspec": {
   "display_name": "Python 3",
   "language": "python",
   "name": "python3"
  },
  "language_info": {
   "codemirror_mode": {
    "name": "ipython",
    "version": 3
   },
   "file_extension": ".py",
   "mimetype": "text/x-python",
   "name": "python",
   "nbconvert_exporter": "python",
   "pygments_lexer": "ipython3",
   "version": "3.6.8"
  }
 },
 "nbformat": 4,
 "nbformat_minor": 2
}
